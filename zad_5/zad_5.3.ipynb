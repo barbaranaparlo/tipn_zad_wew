{
 "cells": [
  {
   "cell_type": "markdown",
   "metadata": {},
   "source": [
    "# Licznie słów w zdaniu "
   ]
  },
  {
   "cell_type": "code",
   "execution_count": null,
   "metadata": {},
   "outputs": [],
   "source": [
    "zdanie = input raw (\"Podaj zdanie\")\n",
    "\n",
    "z = 0\n",
    "\n",
    "jakas_lista = [1]\n",
    "\n",
    "for z in zdanie:\n",
    "    if  z == ' ':\n",
    "        lista.append(1)\n",
    "if len(lista) == 1:\n",
    "    print(\"W zdaniu jest\", len(jakas_lista), \"słowo\" )\n",
    "if len(lista) > 2 :\n",
    "    print(\"W zdaniu są\", len(lista), \"słowa\" )\n",
    "    \n"
   ]
  },
  {
   "cell_type": "code",
   "execution_count": null,
   "metadata": {},
   "outputs": [],
   "source": []
  },
  {
   "cell_type": "code",
   "execution_count": null,
   "metadata": {},
   "outputs": [],
   "source": []
  }
 ],
 "metadata": {
  "kernelspec": {
   "display_name": "Python 3",
   "language": "python",
   "name": "python3"
  },
  "language_info": {
   "codemirror_mode": {
    "name": "ipython",
    "version": 3
   },
   "file_extension": ".py",
   "mimetype": "text/x-python",
   "name": "python",
   "nbconvert_exporter": "python",
   "pygments_lexer": "ipython3",
   "version": "3.7.0"
  }
 },
 "nbformat": 4,
 "nbformat_minor": 2
}
