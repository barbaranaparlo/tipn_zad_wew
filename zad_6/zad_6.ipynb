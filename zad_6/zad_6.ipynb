{
 "cells": [
  {
   "cell_type": "markdown",
   "metadata": {},
   "source": [
    "# Test dla każdego studenta"
   ]
  },
  {
   "cell_type": "code",
   "execution_count": null,
   "metadata": {},
   "outputs": [],
   "source": []
  },
  {
   "cell_type": "code",
   "execution_count": null,
   "metadata": {},
   "outputs": [],
   "source": [
    "a = \"Czy tracisz na picie coś z Twego czasu pracy?\"\n",
    "b = \"Czy picie czyni Twoje pożycie domowe nieszczęśliwym lub mniej szczęśliwym?\"\n",
    "c = \"Czy pijesz dlatego, że jesteś nieśmiały(-a) wobec innych?\"\n",
    "d = \"Czy picie już przynosi ujmę Twojej opinii?\"\n",
    "e = \"Czy miałeś(-aś) kiedykolwiek wskutek picia trudności finansowe?\"\n",
    "punkty = []"
   ]
  },
  {
   "cell_type": "code",
   "execution_count": null,
   "metadata": {},
   "outputs": [],
   "source": [
    "def test(os):\n",
    "\n",
    "    lista_pytan = [a, b, c, d, e]\n",
    "    \n",
    "def zadaj_pytanie(a):\n",
    "        \n",
    "    print(a)\n",
    "    ax = input(\"1 oznacza tak, a 0 oznacza nie :\")\n",
    "    ax = int(ax)\n",
    "    if ax>1 :\n",
    "        print(\"Wpisałaś/eś złą liczbę!\")\n",
    "    else:\n",
    "        return ax"
   ]
  },
  {
   "cell_type": "code",
   "execution_count": null,
   "metadata": {},
   "outputs": [],
   "source": [
    "pkt = zadaj_pytanie(a)\n",
    "punkty.append(pkt)\n",
    "pkt = zadaj_pytanie(b)\n",
    "punkty.append(pkt)\n",
    "pkt = zadaj_pytanie(c)\n",
    "punkty.append(pkt)\n",
    "pkt = zadaj_pytanie(d)\n",
    "punkty.append(pkt)\n",
    "pkt = zadaj_pytanie(e)\n",
    "punkty.append(pkt)\n",
    "wynik = sum(punkty)\n",
    "wynik = int(wynik)\n",
    "\n",
    "if wynik > 1 and wynik < 3:\n",
    "    print(\"Twój wynik to\", wynik, \".\", \"Nie masz się czym martwić, ale zdecydowanie nie możesz się nazwać studentem.\")\n",
    "elif wynik == 4:\n",
    "    print(\"Twój wynik to\", wynik, \".\", \"Witaj w klubie anonimowych studentów! Masz szansę zdać, ale uwazaj na uzależnienia.\")\n",
    "elif wynik == 5:\n",
    "    print(\"Twój wynik to\", wynik, \".\", \"Chyba masz problem z alkoholem, spokojnie, nie jesteś sam.\")\n",
    "\n",
    "    \n",
    "if wynik > 0:\n",
    "    punkty.pop(0)\n",
    "    punkty.pop(0)\n",
    "    punkty.pop(0)\n",
    "    punkty.pop(0)\n",
    "    punkty.pop(0)\n",
    "else:\n",
    "    print(\"Dzięki za zrobienie testu!\")\n"
   ]
  },
  {
   "cell_type": "code",
   "execution_count": null,
   "metadata": {},
   "outputs": [],
   "source": []
  },
  {
   "cell_type": "code",
   "execution_count": null,
   "metadata": {},
   "outputs": [],
   "source": []
  }
 ],
 "metadata": {
  "kernelspec": {
   "display_name": "Python 3",
   "language": "python",
   "name": "python3"
  },
  "language_info": {
   "codemirror_mode": {
    "name": "ipython",
    "version": 3
   },
   "file_extension": ".py",
   "mimetype": "text/x-python",
   "name": "python",
   "nbconvert_exporter": "python",
   "pygments_lexer": "ipython3",
   "version": "3.7.0"
  }
 },
 "nbformat": 4,
 "nbformat_minor": 2
}
