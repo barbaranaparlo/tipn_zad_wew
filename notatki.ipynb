{
 "cells": [
  {
   "cell_type": "code",
   "execution_count": 3,
   "metadata": {},
   "outputs": [
    {
     "ename": "SyntaxError",
     "evalue": "invalid syntax (<ipython-input-3-fb97f2f77179>, line 1)",
     "output_type": "error",
     "traceback": [
      "\u001b[0;36m  File \u001b[0;32m\"<ipython-input-3-fb97f2f77179>\"\u001b[0;36m, line \u001b[0;32m1\u001b[0m\n\u001b[0;31m    while warunek_logiczny\u001b[0m\n\u001b[0m                          ^\u001b[0m\n\u001b[0;31mSyntaxError\u001b[0m\u001b[0;31m:\u001b[0m invalid syntax\n"
     ]
    }
   ],
   "source": [
    "# pętla while => warunek_logiczny"
   ]
  },
  {
   "cell_type": "code",
   "execution_count": 9,
   "metadata": {},
   "outputs": [
    {
     "name": "stdout",
     "output_type": "stream",
     "text": [
      "licznik to 0\n",
      "licznik to 1\n",
      "licznik to 2\n",
      "licznik to 3\n",
      "licznik to 4\n"
     ]
    }
   ],
   "source": [
    "licznik = 0\n",
    "\n",
    "while licznik < 5:\n",
    "    print (\"licznik to\", licznik)\n",
    "    licznik += 1"
   ]
  },
  {
   "cell_type": "code",
   "execution_count": null,
   "metadata": {},
   "outputs": [],
   "source": [
    "haslo = input(\"podaj hasło:\")\n",
    "\n",
    "print (haslo)\n",
    "\n",
    "while haslo != 'idź spać!' :\n",
    "    print (\"podałeś złe hasło\")\n",
    "    haslo = input (\"podaj hasło\")\n",
    "    \n",
    "print (\"podałeś dobre hasło\")"
   ]
  },
  {
   "cell_type": "code",
   "execution_count": null,
   "metadata": {},
   "outputs": [],
   "source": [
    "# wypisz wszystkie liczby zprzedziału 0 - 100, podzielne przez 2 i 3"
   ]
  },
  {
   "cell_type": "code",
   "execution_count": 4,
   "metadata": {},
   "outputs": [
    {
     "name": "stdout",
     "output_type": "stream",
     "text": [
      "licznik to  0\n",
      "licznik to  6\n",
      "licznik to  12\n",
      "licznik to  18\n",
      "licznik to  24\n",
      "licznik to  30\n",
      "licznik to  36\n",
      "licznik to  42\n",
      "licznik to  48\n",
      "licznik to  54\n",
      "licznik to  60\n",
      "licznik to  66\n",
      "licznik to  72\n",
      "licznik to  78\n",
      "licznik to  84\n",
      "licznik to  90\n",
      "licznik to  96\n"
     ]
    }
   ],
   "source": [
    "licznik = 0 \n",
    "\n",
    "while licznik <= 100:\n",
    "    if (licznik % 2 == 0) and (licznik % 3 == 0):\n",
    "         print (\"licznik to \", licznik)\n",
    "    licznik += 1"
   ]
  },
  {
   "cell_type": "code",
   "execution_count": 29,
   "metadata": {},
   "outputs": [],
   "source": [
    "# drugi rodzaj pętli 'for'dla list\n",
    "imiona =[ 'xyy', 'y', 'z', 'w' ]\n"
   ]
  },
  {
   "cell_type": "code",
   "execution_count": 6,
   "metadata": {},
   "outputs": [
    {
     "data": {
      "text/plain": [
       "'z'"
      ]
     },
     "execution_count": 6,
     "metadata": {},
     "output_type": "execute_result"
    }
   ],
   "source": [
    "imiona [2]"
   ]
  },
  {
   "cell_type": "code",
   "execution_count": 10,
   "metadata": {},
   "outputs": [
    {
     "data": {
      "text/plain": [
       "['z']"
      ]
     },
     "execution_count": 10,
     "metadata": {},
     "output_type": "execute_result"
    }
   ],
   "source": [
    "imiona [2:3]"
   ]
  },
  {
   "cell_type": "code",
   "execution_count": 11,
   "metadata": {},
   "outputs": [
    {
     "data": {
      "text/plain": [
       "['x', 'y', 'z', 'w']"
      ]
     },
     "execution_count": 11,
     "metadata": {},
     "output_type": "execute_result"
    }
   ],
   "source": [
    "imiona "
   ]
  },
  {
   "cell_type": "code",
   "execution_count": 30,
   "metadata": {},
   "outputs": [
    {
     "name": "stdout",
     "output_type": "stream",
     "text": [
      "xyy nowak\n",
      "y nowak\n",
      "z nowak\n",
      "w nowak\n"
     ]
    }
   ],
   "source": [
    "for imie in imiona:\n",
    "    \n",
    "    print (imie + ' nowak')\n",
    "    "
   ]
  },
  {
   "cell_type": "code",
   "execution_count": 20,
   "metadata": {},
   "outputs": [],
   "source": [
    "imiona.append ('n')"
   ]
  },
  {
   "cell_type": "code",
   "execution_count": 21,
   "metadata": {},
   "outputs": [
    {
     "data": {
      "text/plain": [
       "['x', 'y', 'z', 'w', 'n']"
      ]
     },
     "execution_count": 21,
     "metadata": {},
     "output_type": "execute_result"
    }
   ],
   "source": [
    "imiona "
   ]
  },
  {
   "cell_type": "code",
   "execution_count": 31,
   "metadata": {},
   "outputs": [
    {
     "data": {
      "text/plain": [
       "['xyy nowak', 'y nowak', 'z nowak', 'w nowak']"
      ]
     },
     "execution_count": 31,
     "metadata": {},
     "output_type": "execute_result"
    }
   ],
   "source": [
    "imiona_nazwiska = []\n",
    "\n",
    "for imie in imiona:\n",
    "    imiona_nazwiska.append (imie + ' nowak')\n",
    "    \n",
    "imiona_nazwiska"
   ]
  },
  {
   "cell_type": "code",
   "execution_count": 25,
   "metadata": {},
   "outputs": [],
   "source": [
    "# len liczy ilość znaków w słowie"
   ]
  },
  {
   "cell_type": "code",
   "execution_count": 26,
   "metadata": {},
   "outputs": [
    {
     "data": {
      "text/plain": [
       "1"
      ]
     },
     "execution_count": 26,
     "metadata": {},
     "output_type": "execute_result"
    }
   ],
   "source": [
    "len (imiona [2])"
   ]
  },
  {
   "cell_type": "code",
   "execution_count": 32,
   "metadata": {},
   "outputs": [
    {
     "data": {
      "text/plain": [
       "[9, 7, 7, 7]"
      ]
     },
     "execution_count": 32,
     "metadata": {},
     "output_type": "execute_result"
    }
   ],
   "source": [
    "dlugosc_imion = []\n",
    "for imie in imiona_nazwiska:\n",
    "    dlugosc_imion.append (len (imie))\n",
    "\n",
    "dlugosc_imion"
   ]
  },
  {
   "cell_type": "code",
   "execution_count": 33,
   "metadata": {},
   "outputs": [
    {
     "data": {
      "text/plain": [
       "7.5"
      ]
     },
     "execution_count": 33,
     "metadata": {},
     "output_type": "execute_result"
    }
   ],
   "source": [
    "import numpy as np\n",
    "\n",
    "np.mean (dlugosc_imion)"
   ]
  },
  {
   "cell_type": "code",
   "execution_count": 34,
   "metadata": {},
   "outputs": [
    {
     "data": {
      "text/plain": [
       "0.8660254037844386"
      ]
     },
     "execution_count": 34,
     "metadata": {},
     "output_type": "execute_result"
    }
   ],
   "source": [
    "np.std(dlugosc_imion)"
   ]
  },
  {
   "cell_type": "code",
   "execution_count": 35,
   "metadata": {},
   "outputs": [],
   "source": [
    "napis = 'Brzęczyszczykiewicz'"
   ]
  },
  {
   "cell_type": "code",
   "execution_count": 36,
   "metadata": {},
   "outputs": [
    {
     "data": {
      "text/plain": [
       "'ęczy'"
      ]
     },
     "execution_count": 36,
     "metadata": {},
     "output_type": "execute_result"
    }
   ],
   "source": [
    "napis [3:7]"
   ]
  },
  {
   "cell_type": "code",
   "execution_count": 38,
   "metadata": {},
   "outputs": [
    {
     "name": "stdout",
     "output_type": "stream",
     "text": [
      "B\n",
      "r\n",
      "z\n",
      "ę\n",
      "c\n",
      "z\n",
      "y\n",
      "s\n",
      "z\n",
      "c\n",
      "z\n",
      "y\n",
      "k\n",
      "i\n",
      "e\n",
      "w\n",
      "i\n",
      "c\n",
      "z\n"
     ]
    }
   ],
   "source": [
    "for literka in napis:\n",
    "    print (literka)"
   ]
  },
  {
   "cell_type": "code",
   "execution_count": 40,
   "metadata": {},
   "outputs": [],
   "source": [
    "napis1 = '''Litwo! Ojczyzno moja! ty jesteś jak zdrowie:\n",
    "Ile cię trzeba cenić, ten tylko się dowie,\n",
    "Kto cię stracił. Dziś piękność twą w całej ozdobie\n",
    "Widzę i opisuję, bo tęsknię po tobie.\n",
    "5\n",
    "Matka Boska, Opieka, CudPanno święta, co Jasnej bronisz Częstochowy\n",
    "I w Ostrej świecisz Bramie[2]! Ty, co gród zamkowy\n",
    "Nowogródzki ochraniasz z jego wiernym ludem!\n",
    "Jak mnie dziecko do zdrowia powróciłaś cudem\n",
    "(Gdy od płaczącej matki[3], pod Twoją opiekę\n",
    "10\n",
    "Ofiarowany, martwą podniosłem powiekę;\n",
    "I zaraz mogłem pieszo, do Twych świątyń progu\n",
    "Iść za wrócone życie podziękować Bogu),\n",
    "Tak nas powrócisz cudem na Ojczyzny łono.\n",
    "RoślinyTymczasem przenoś moją duszę utęsknioną\n",
    "15\n",
    "Do tych pagórków leśnych, do tych łąk zielonych,\n",
    "Szeroko nad błękitnym Niemnem rozciągnionych;\n",
    "Do tych pól malowanych zbożem rozmaitem,\n",
    "Wyzłacanych pszenicą, posrebrzanych żytem;\n",
    "Gdzie bursztynowy świerzop[4], gryka jak śnieg biała,\n",
    "20\n",
    "Gdzie panieńskim rumieńcem dzięcielina[5] pała,\n",
    "A wszystko przepasane jakby wstęgą, miedzą\n",
    "Zieloną, na niej z rzadka ciche grusze siedzą.'''"
   ]
  },
  {
   "cell_type": "code",
   "execution_count": 42,
   "metadata": {},
   "outputs": [
    {
     "name": "stdout",
     "output_type": "stream",
     "text": [
      "w Panu Tadeuszu znajduje się z liter a\n"
     ]
    }
   ],
   "source": [
    "l = 0\n",
    "\n",
    "for l in napis:\n",
    "    if (literka == 'a') or (literka == 'A'):\n",
    "        l += 1\n",
    "        \n",
    "print (\"w Panu Tadeuszu znajduje się\", l, \"liter a\" )"
   ]
  },
  {
   "cell_type": "code",
   "execution_count": null,
   "metadata": {},
   "outputs": [],
   "source": []
  }
 ],
 "metadata": {
  "kernelspec": {
   "display_name": "Python 3",
   "language": "python",
   "name": "python3"
  },
  "language_info": {
   "codemirror_mode": {
    "name": "ipython",
    "version": 3
   },
   "file_extension": ".py",
   "mimetype": "text/x-python",
   "name": "python",
   "nbconvert_exporter": "python",
   "pygments_lexer": "ipython3",
   "version": "3.7.0"
  }
 },
 "nbformat": 4,
 "nbformat_minor": 2
}
