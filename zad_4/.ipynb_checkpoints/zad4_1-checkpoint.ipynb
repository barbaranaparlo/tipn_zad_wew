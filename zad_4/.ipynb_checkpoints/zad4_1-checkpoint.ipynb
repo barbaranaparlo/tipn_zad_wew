{
 "cells": [
  {
   "cell_type": "markdown",
   "metadata": {},
   "source": [
    "# Program określający rodzaj zdania"
   ]
  },
  {
   "cell_type": "code",
   "execution_count": 1,
   "metadata": {},
   "outputs": [
    {
     "name": "stdin",
     "output_type": "stream",
     "text": [
      "Napsz do mnie nie zapominając o interpunkcji cześć!\n"
     ]
    }
   ],
   "source": [
    "tekst = input(\"Napsz do mnie nie zapominając o interpunkcji\")"
   ]
  },
  {
   "cell_type": "code",
   "execution_count": 2,
   "metadata": {},
   "outputs": [
    {
     "name": "stdout",
     "output_type": "stream",
     "text": [
      "Nie krzycz! Słyszę Cię całiem dobrze!\n"
     ]
    }
   ],
   "source": [
    "if tekst[-1] == \".\":\n",
    "    print(\"Rozumiem, pewnie masz rację.\")\n",
    "elif tekst[-1] == \"?\":\n",
    "    print(\"Nie wiem, nie znam się.\")\n",
    "elif tekst[-1] == \"!\":\n",
    "    print(\"Nie krzycz! Słyszę Cię całiem dobrze!\")"
   ]
  },
  {
   "cell_type": "code",
   "execution_count": null,
   "metadata": {},
   "outputs": [],
   "source": []
  }
 ],
 "metadata": {
  "kernelspec": {
   "display_name": "Python 3",
   "language": "python",
   "name": "python3"
  },
  "language_info": {
   "codemirror_mode": {
    "name": "ipython",
    "version": 3
   },
   "file_extension": ".py",
   "mimetype": "text/x-python",
   "name": "python",
   "nbconvert_exporter": "python",
   "pygments_lexer": "ipython3",
   "version": "3.7.0"
  }
 },
 "nbformat": 4,
 "nbformat_minor": 2
}
